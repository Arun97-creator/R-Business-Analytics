{
 "cells": [
  {
   "cell_type": "code",
   "execution_count": 2,
   "metadata": {},
   "outputs": [
    {
     "data": {
      "text/html": [
       "<table class=\"dataframe\">\n",
       "<caption>A data.frame: 23 × 13</caption>\n",
       "<thead>\n",
       "\t<tr><th scope=col>DISTRICTS</th><th scope=col>Q1.MAX.JAN.APR.</th><th scope=col>Q2.MAX.MAY.AUG.</th><th scope=col>Q3.MAX.SEP.DEC.</th><th scope=col>Q1.MIN.JAN.APR.</th><th scope=col>Q2.MIN.MAY.AUG.</th><th scope=col>Q3.MIN.SEP.DEC.</th><th scope=col>Q1.RH..8.3..JAN.APR.</th><th scope=col>Q2.RH..8.3..MAY.AUG.</th><th scope=col>Q3.RH..8.3..SEP.DEC.</th><th scope=col>Q1.RH..17.3..JAN.APR.</th><th scope=col>Q2.RH..17.3..MAY.AUG.</th><th scope=col>Q3.RH..17.3..SEP.DEC.</th></tr>\n",
       "\t<tr><th scope=col>&lt;chr&gt;</th><th scope=col>&lt;dbl&gt;</th><th scope=col>&lt;dbl&gt;</th><th scope=col>&lt;dbl&gt;</th><th scope=col>&lt;dbl&gt;</th><th scope=col>&lt;dbl&gt;</th><th scope=col>&lt;dbl&gt;</th><th scope=col>&lt;dbl&gt;</th><th scope=col>&lt;dbl&gt;</th><th scope=col>&lt;dbl&gt;</th><th scope=col>&lt;dbl&gt;</th><th scope=col>&lt;dbl&gt;</th><th scope=col>&lt;dbl&gt;</th></tr>\n",
       "</thead>\n",
       "<tbody>\n",
       "\t<tr><td>ANGUL                </td><td>36.025</td><td>34.975</td><td>31.175</td><td>18.925</td><td>23.45000</td><td>65.4</td><td>77.25000</td><td>80.2500</td><td>86.000</td><td>48.2500</td><td>70.50000</td><td>72.25000</td></tr>\n",
       "\t<tr><td>BALASORE             </td><td>33.300</td><td>33.725</td><td>30.550</td><td>20.875</td><td>25.52500</td><td>80.4</td><td>68.00000</td><td>74.5000</td><td>69.500</td><td>66.5000</td><td>74.75000</td><td>71.75000</td></tr>\n",
       "\t<tr><td>BARIPADA             </td><td>33.325</td><td>33.975</td><td>29.600</td><td>19.950</td><td>24.45000</td><td>76.9</td><td>47.12772</td><td>47.9525</td><td>49.106</td><td>36.9995</td><td>44.41075</td><td>44.27975</td></tr>\n",
       "\t<tr><td>BHAWANIPATNA         </td><td>37.300</td><td>36.150</td><td>31.275</td><td>20.600</td><td>24.47500</td><td>61.3</td><td>67.00000</td><td>47.9525</td><td>49.106</td><td>48.5000</td><td>44.41075</td><td>44.27975</td></tr>\n",
       "\t<tr><td>BHUBANESWAR 30.3 16.8</td><td>35.775</td><td>34.275</td><td>31.125</td><td>22.325</td><td>26.30000</td><td>82.0</td><td>78.25000</td><td>85.0000</td><td>80.750</td><td>58.5000</td><td>80.50000</td><td>75.50000</td></tr>\n",
       "\t<tr><td>BOLANGIR             </td><td>36.600</td><td>36.225</td><td>31.525</td><td>22.275</td><td>25.77500</td><td>75.1</td><td>64.25000</td><td>76.0000</td><td>82.750</td><td>46.7500</td><td>65.50000</td><td>74.25000</td></tr>\n",
       "\t<tr><td>CHANDABALI           </td><td>34.475</td><td>34.675</td><td>30.000</td><td>21.875</td><td>25.52500</td><td>84.5</td><td>80.50000</td><td>82.0000</td><td>83.000</td><td>64.5000</td><td>77.75000</td><td>79.00000</td></tr>\n",
       "\t<tr><td>CUTTACK              </td><td>34.100</td><td>33.775</td><td>30.300</td><td>21.700</td><td>25.37500</td><td>79.6</td><td>47.12772</td><td>47.9525</td><td>49.106</td><td>36.9995</td><td>44.41075</td><td>44.27975</td></tr>\n",
       "\t<tr><td>GOPALPUR             </td><td>30.950</td><td>33.025</td><td>31.900</td><td>22.050</td><td>26.02500</td><td>87.7</td><td>87.00000</td><td>85.7500</td><td>83.250</td><td>83.7500</td><td>85.00000</td><td>71.00000</td></tr>\n",
       "\t<tr><td>HIRAKUD              </td><td>35.575</td><td>35.775</td><td>31.375</td><td>17.600</td><td>23.50000</td><td>67.9</td><td>71.50000</td><td>75.5000</td><td>83.500</td><td>51.5000</td><td>65.75000</td><td>71.25000</td></tr>\n",
       "\t<tr><td>JHARSUGUDA           </td><td>35.250</td><td>35.325</td><td>30.950</td><td>19.175</td><td>26.00000</td><td>72.7</td><td>55.25000</td><td>71.7500</td><td>76.250</td><td>34.2500</td><td>61.00000</td><td>61.50000</td></tr>\n",
       "\t<tr><td>KANDHAMAL            </td><td>33.450</td><td>32.725</td><td>28.600</td><td>16.175</td><td>22.87500</td><td>59.6</td><td>47.12772</td><td>47.9525</td><td>49.106</td><td>36.9995</td><td>44.41075</td><td>44.27975</td></tr>\n",
       "\t<tr><td>KEONJHAR             </td><td>33.525</td><td>32.950</td><td>29.375</td><td>19.225</td><td>23.82500</td><td>69.2</td><td>60.25000</td><td>77.5000</td><td>73.500</td><td>41.5000</td><td>73.75000</td><td>70.00000</td></tr>\n",
       "\t<tr><td>KORAPUT              </td><td>32.800</td><td>29.500</td><td>27.950</td><td>15.925</td><td>20.05000</td><td>61.3</td><td>82.75000</td><td>85.2500</td><td>90.250</td><td>61.5000</td><td>75.00000</td><td>72.00000</td></tr>\n",
       "\t<tr><td>MALKANGIRI           </td><td>37.275</td><td>34.300</td><td>31.750</td><td>23.200</td><td>24.85000</td><td>82.9</td><td>47.12772</td><td>47.9525</td><td>49.106</td><td>36.9995</td><td>44.41075</td><td>44.27975</td></tr>\n",
       "\t<tr><td>PARADEEP             </td><td>29.800</td><td>31.950</td><td>30.425</td><td>23.500</td><td>29.77500</td><td>88.1</td><td>81.50000</td><td>81.5000</td><td>80.250</td><td>78.5000</td><td>82.00000</td><td>75.00000</td></tr>\n",
       "\t<tr><td>PURI                 </td><td>30.500</td><td>33.300</td><td>30.850</td><td>22.800</td><td>26.57500</td><td>86.5</td><td>77.28250</td><td>78.5000</td><td>72.750</td><td>76.2500</td><td>79.75000</td><td>67.00000</td></tr>\n",
       "\t<tr><td>SAMBALPUR            </td><td>34.725</td><td>35.500</td><td>30.525</td><td>19.550</td><td>24.85000</td><td>67.4</td><td>70.25000</td><td>74.0000</td><td>81.250</td><td>51.0000</td><td>64.25000</td><td>76.75000</td></tr>\n",
       "\t<tr><td>SUBARNAPUR           </td><td>35.100</td><td>36.725</td><td>31.825</td><td>19.050</td><td>24.49674</td><td>80.8</td><td>47.12772</td><td>47.9525</td><td>49.106</td><td>36.9995</td><td>44.41075</td><td>44.27975</td></tr>\n",
       "\t<tr><td>SUNDARGARH           </td><td>34.800</td><td>35.275</td><td>30.350</td><td>15.250</td><td>21.60000</td><td>60.5</td><td>47.12772</td><td>47.9525</td><td>49.106</td><td>36.9995</td><td>44.41075</td><td>44.27975</td></tr>\n",
       "\t<tr><td>TALCHAR              </td><td>35.400</td><td>35.200</td><td>30.725</td><td>21.425</td><td>25.45000</td><td>78.8</td><td>47.12772</td><td>47.9525</td><td>49.106</td><td>36.9995</td><td>44.41075</td><td>44.27975</td></tr>\n",
       "\t<tr><td>TITLAGARH            </td><td>36.950</td><td>35.700</td><td>31.300</td><td>18.525</td><td>25.05000</td><td>74.7</td><td>63.00000</td><td>76.0000</td><td>86.750</td><td>39.7500</td><td>66.00000</td><td>81.25000</td></tr>\n",
       "\t<tr><td>DARINGBARDI          </td><td>31.275</td><td>29.375</td><td>26.675</td><td>16.600</td><td>20.37500</td><td>55.4</td><td>47.12772</td><td>47.9525</td><td>49.106</td><td>36.9995</td><td>44.41075</td><td>44.27975</td></tr>\n",
       "</tbody>\n",
       "</table>\n"
      ],
      "text/latex": [
       "A data.frame: 23 × 13\n",
       "\\begin{tabular}{lllllllllllll}\n",
       " DISTRICTS & Q1.MAX.JAN.APR. & Q2.MAX.MAY.AUG. & Q3.MAX.SEP.DEC. & Q1.MIN.JAN.APR. & Q2.MIN.MAY.AUG. & Q3.MIN.SEP.DEC. & Q1.RH..8.3..JAN.APR. & Q2.RH..8.3..MAY.AUG. & Q3.RH..8.3..SEP.DEC. & Q1.RH..17.3..JAN.APR. & Q2.RH..17.3..MAY.AUG. & Q3.RH..17.3..SEP.DEC.\\\\\n",
       " <chr> & <dbl> & <dbl> & <dbl> & <dbl> & <dbl> & <dbl> & <dbl> & <dbl> & <dbl> & <dbl> & <dbl> & <dbl>\\\\\n",
       "\\hline\n",
       "\t ANGUL                 & 36.025 & 34.975 & 31.175 & 18.925 & 23.45000 & 65.4 & 77.25000 & 80.2500 & 86.000 & 48.2500 & 70.50000 & 72.25000\\\\\n",
       "\t BALASORE              & 33.300 & 33.725 & 30.550 & 20.875 & 25.52500 & 80.4 & 68.00000 & 74.5000 & 69.500 & 66.5000 & 74.75000 & 71.75000\\\\\n",
       "\t BARIPADA              & 33.325 & 33.975 & 29.600 & 19.950 & 24.45000 & 76.9 & 47.12772 & 47.9525 & 49.106 & 36.9995 & 44.41075 & 44.27975\\\\\n",
       "\t BHAWANIPATNA          & 37.300 & 36.150 & 31.275 & 20.600 & 24.47500 & 61.3 & 67.00000 & 47.9525 & 49.106 & 48.5000 & 44.41075 & 44.27975\\\\\n",
       "\t BHUBANESWAR 30.3 16.8 & 35.775 & 34.275 & 31.125 & 22.325 & 26.30000 & 82.0 & 78.25000 & 85.0000 & 80.750 & 58.5000 & 80.50000 & 75.50000\\\\\n",
       "\t BOLANGIR              & 36.600 & 36.225 & 31.525 & 22.275 & 25.77500 & 75.1 & 64.25000 & 76.0000 & 82.750 & 46.7500 & 65.50000 & 74.25000\\\\\n",
       "\t CHANDABALI            & 34.475 & 34.675 & 30.000 & 21.875 & 25.52500 & 84.5 & 80.50000 & 82.0000 & 83.000 & 64.5000 & 77.75000 & 79.00000\\\\\n",
       "\t CUTTACK               & 34.100 & 33.775 & 30.300 & 21.700 & 25.37500 & 79.6 & 47.12772 & 47.9525 & 49.106 & 36.9995 & 44.41075 & 44.27975\\\\\n",
       "\t GOPALPUR              & 30.950 & 33.025 & 31.900 & 22.050 & 26.02500 & 87.7 & 87.00000 & 85.7500 & 83.250 & 83.7500 & 85.00000 & 71.00000\\\\\n",
       "\t HIRAKUD               & 35.575 & 35.775 & 31.375 & 17.600 & 23.50000 & 67.9 & 71.50000 & 75.5000 & 83.500 & 51.5000 & 65.75000 & 71.25000\\\\\n",
       "\t JHARSUGUDA            & 35.250 & 35.325 & 30.950 & 19.175 & 26.00000 & 72.7 & 55.25000 & 71.7500 & 76.250 & 34.2500 & 61.00000 & 61.50000\\\\\n",
       "\t KANDHAMAL             & 33.450 & 32.725 & 28.600 & 16.175 & 22.87500 & 59.6 & 47.12772 & 47.9525 & 49.106 & 36.9995 & 44.41075 & 44.27975\\\\\n",
       "\t KEONJHAR              & 33.525 & 32.950 & 29.375 & 19.225 & 23.82500 & 69.2 & 60.25000 & 77.5000 & 73.500 & 41.5000 & 73.75000 & 70.00000\\\\\n",
       "\t KORAPUT               & 32.800 & 29.500 & 27.950 & 15.925 & 20.05000 & 61.3 & 82.75000 & 85.2500 & 90.250 & 61.5000 & 75.00000 & 72.00000\\\\\n",
       "\t MALKANGIRI            & 37.275 & 34.300 & 31.750 & 23.200 & 24.85000 & 82.9 & 47.12772 & 47.9525 & 49.106 & 36.9995 & 44.41075 & 44.27975\\\\\n",
       "\t PARADEEP              & 29.800 & 31.950 & 30.425 & 23.500 & 29.77500 & 88.1 & 81.50000 & 81.5000 & 80.250 & 78.5000 & 82.00000 & 75.00000\\\\\n",
       "\t PURI                  & 30.500 & 33.300 & 30.850 & 22.800 & 26.57500 & 86.5 & 77.28250 & 78.5000 & 72.750 & 76.2500 & 79.75000 & 67.00000\\\\\n",
       "\t SAMBALPUR             & 34.725 & 35.500 & 30.525 & 19.550 & 24.85000 & 67.4 & 70.25000 & 74.0000 & 81.250 & 51.0000 & 64.25000 & 76.75000\\\\\n",
       "\t SUBARNAPUR            & 35.100 & 36.725 & 31.825 & 19.050 & 24.49674 & 80.8 & 47.12772 & 47.9525 & 49.106 & 36.9995 & 44.41075 & 44.27975\\\\\n",
       "\t SUNDARGARH            & 34.800 & 35.275 & 30.350 & 15.250 & 21.60000 & 60.5 & 47.12772 & 47.9525 & 49.106 & 36.9995 & 44.41075 & 44.27975\\\\\n",
       "\t TALCHAR               & 35.400 & 35.200 & 30.725 & 21.425 & 25.45000 & 78.8 & 47.12772 & 47.9525 & 49.106 & 36.9995 & 44.41075 & 44.27975\\\\\n",
       "\t TITLAGARH             & 36.950 & 35.700 & 31.300 & 18.525 & 25.05000 & 74.7 & 63.00000 & 76.0000 & 86.750 & 39.7500 & 66.00000 & 81.25000\\\\\n",
       "\t DARINGBARDI           & 31.275 & 29.375 & 26.675 & 16.600 & 20.37500 & 55.4 & 47.12772 & 47.9525 & 49.106 & 36.9995 & 44.41075 & 44.27975\\\\\n",
       "\\end{tabular}\n"
      ],
      "text/markdown": [
       "\n",
       "A data.frame: 23 × 13\n",
       "\n",
       "| DISTRICTS &lt;chr&gt; | Q1.MAX.JAN.APR. &lt;dbl&gt; | Q2.MAX.MAY.AUG. &lt;dbl&gt; | Q3.MAX.SEP.DEC. &lt;dbl&gt; | Q1.MIN.JAN.APR. &lt;dbl&gt; | Q2.MIN.MAY.AUG. &lt;dbl&gt; | Q3.MIN.SEP.DEC. &lt;dbl&gt; | Q1.RH..8.3..JAN.APR. &lt;dbl&gt; | Q2.RH..8.3..MAY.AUG. &lt;dbl&gt; | Q3.RH..8.3..SEP.DEC. &lt;dbl&gt; | Q1.RH..17.3..JAN.APR. &lt;dbl&gt; | Q2.RH..17.3..MAY.AUG. &lt;dbl&gt; | Q3.RH..17.3..SEP.DEC. &lt;dbl&gt; |\n",
       "|---|---|---|---|---|---|---|---|---|---|---|---|---|\n",
       "| ANGUL                 | 36.025 | 34.975 | 31.175 | 18.925 | 23.45000 | 65.4 | 77.25000 | 80.2500 | 86.000 | 48.2500 | 70.50000 | 72.25000 |\n",
       "| BALASORE              | 33.300 | 33.725 | 30.550 | 20.875 | 25.52500 | 80.4 | 68.00000 | 74.5000 | 69.500 | 66.5000 | 74.75000 | 71.75000 |\n",
       "| BARIPADA              | 33.325 | 33.975 | 29.600 | 19.950 | 24.45000 | 76.9 | 47.12772 | 47.9525 | 49.106 | 36.9995 | 44.41075 | 44.27975 |\n",
       "| BHAWANIPATNA          | 37.300 | 36.150 | 31.275 | 20.600 | 24.47500 | 61.3 | 67.00000 | 47.9525 | 49.106 | 48.5000 | 44.41075 | 44.27975 |\n",
       "| BHUBANESWAR 30.3 16.8 | 35.775 | 34.275 | 31.125 | 22.325 | 26.30000 | 82.0 | 78.25000 | 85.0000 | 80.750 | 58.5000 | 80.50000 | 75.50000 |\n",
       "| BOLANGIR              | 36.600 | 36.225 | 31.525 | 22.275 | 25.77500 | 75.1 | 64.25000 | 76.0000 | 82.750 | 46.7500 | 65.50000 | 74.25000 |\n",
       "| CHANDABALI            | 34.475 | 34.675 | 30.000 | 21.875 | 25.52500 | 84.5 | 80.50000 | 82.0000 | 83.000 | 64.5000 | 77.75000 | 79.00000 |\n",
       "| CUTTACK               | 34.100 | 33.775 | 30.300 | 21.700 | 25.37500 | 79.6 | 47.12772 | 47.9525 | 49.106 | 36.9995 | 44.41075 | 44.27975 |\n",
       "| GOPALPUR              | 30.950 | 33.025 | 31.900 | 22.050 | 26.02500 | 87.7 | 87.00000 | 85.7500 | 83.250 | 83.7500 | 85.00000 | 71.00000 |\n",
       "| HIRAKUD               | 35.575 | 35.775 | 31.375 | 17.600 | 23.50000 | 67.9 | 71.50000 | 75.5000 | 83.500 | 51.5000 | 65.75000 | 71.25000 |\n",
       "| JHARSUGUDA            | 35.250 | 35.325 | 30.950 | 19.175 | 26.00000 | 72.7 | 55.25000 | 71.7500 | 76.250 | 34.2500 | 61.00000 | 61.50000 |\n",
       "| KANDHAMAL             | 33.450 | 32.725 | 28.600 | 16.175 | 22.87500 | 59.6 | 47.12772 | 47.9525 | 49.106 | 36.9995 | 44.41075 | 44.27975 |\n",
       "| KEONJHAR              | 33.525 | 32.950 | 29.375 | 19.225 | 23.82500 | 69.2 | 60.25000 | 77.5000 | 73.500 | 41.5000 | 73.75000 | 70.00000 |\n",
       "| KORAPUT               | 32.800 | 29.500 | 27.950 | 15.925 | 20.05000 | 61.3 | 82.75000 | 85.2500 | 90.250 | 61.5000 | 75.00000 | 72.00000 |\n",
       "| MALKANGIRI            | 37.275 | 34.300 | 31.750 | 23.200 | 24.85000 | 82.9 | 47.12772 | 47.9525 | 49.106 | 36.9995 | 44.41075 | 44.27975 |\n",
       "| PARADEEP              | 29.800 | 31.950 | 30.425 | 23.500 | 29.77500 | 88.1 | 81.50000 | 81.5000 | 80.250 | 78.5000 | 82.00000 | 75.00000 |\n",
       "| PURI                  | 30.500 | 33.300 | 30.850 | 22.800 | 26.57500 | 86.5 | 77.28250 | 78.5000 | 72.750 | 76.2500 | 79.75000 | 67.00000 |\n",
       "| SAMBALPUR             | 34.725 | 35.500 | 30.525 | 19.550 | 24.85000 | 67.4 | 70.25000 | 74.0000 | 81.250 | 51.0000 | 64.25000 | 76.75000 |\n",
       "| SUBARNAPUR            | 35.100 | 36.725 | 31.825 | 19.050 | 24.49674 | 80.8 | 47.12772 | 47.9525 | 49.106 | 36.9995 | 44.41075 | 44.27975 |\n",
       "| SUNDARGARH            | 34.800 | 35.275 | 30.350 | 15.250 | 21.60000 | 60.5 | 47.12772 | 47.9525 | 49.106 | 36.9995 | 44.41075 | 44.27975 |\n",
       "| TALCHAR               | 35.400 | 35.200 | 30.725 | 21.425 | 25.45000 | 78.8 | 47.12772 | 47.9525 | 49.106 | 36.9995 | 44.41075 | 44.27975 |\n",
       "| TITLAGARH             | 36.950 | 35.700 | 31.300 | 18.525 | 25.05000 | 74.7 | 63.00000 | 76.0000 | 86.750 | 39.7500 | 66.00000 | 81.25000 |\n",
       "| DARINGBARDI           | 31.275 | 29.375 | 26.675 | 16.600 | 20.37500 | 55.4 | 47.12772 | 47.9525 | 49.106 | 36.9995 | 44.41075 | 44.27975 |\n",
       "\n"
      ],
      "text/plain": [
       "   DISTRICTS             Q1.MAX.JAN.APR. Q2.MAX.MAY.AUG. Q3.MAX.SEP.DEC.\n",
       "1  ANGUL                 36.025          34.975          31.175         \n",
       "2  BALASORE              33.300          33.725          30.550         \n",
       "3  BARIPADA              33.325          33.975          29.600         \n",
       "4  BHAWANIPATNA          37.300          36.150          31.275         \n",
       "5  BHUBANESWAR 30.3 16.8 35.775          34.275          31.125         \n",
       "6  BOLANGIR              36.600          36.225          31.525         \n",
       "7  CHANDABALI            34.475          34.675          30.000         \n",
       "8  CUTTACK               34.100          33.775          30.300         \n",
       "9  GOPALPUR              30.950          33.025          31.900         \n",
       "10 HIRAKUD               35.575          35.775          31.375         \n",
       "11 JHARSUGUDA            35.250          35.325          30.950         \n",
       "12 KANDHAMAL             33.450          32.725          28.600         \n",
       "13 KEONJHAR              33.525          32.950          29.375         \n",
       "14 KORAPUT               32.800          29.500          27.950         \n",
       "15 MALKANGIRI            37.275          34.300          31.750         \n",
       "16 PARADEEP              29.800          31.950          30.425         \n",
       "17 PURI                  30.500          33.300          30.850         \n",
       "18 SAMBALPUR             34.725          35.500          30.525         \n",
       "19 SUBARNAPUR            35.100          36.725          31.825         \n",
       "20 SUNDARGARH            34.800          35.275          30.350         \n",
       "21 TALCHAR               35.400          35.200          30.725         \n",
       "22 TITLAGARH             36.950          35.700          31.300         \n",
       "23 DARINGBARDI           31.275          29.375          26.675         \n",
       "   Q1.MIN.JAN.APR. Q2.MIN.MAY.AUG. Q3.MIN.SEP.DEC. Q1.RH..8.3..JAN.APR.\n",
       "1  18.925          23.45000        65.4            77.25000            \n",
       "2  20.875          25.52500        80.4            68.00000            \n",
       "3  19.950          24.45000        76.9            47.12772            \n",
       "4  20.600          24.47500        61.3            67.00000            \n",
       "5  22.325          26.30000        82.0            78.25000            \n",
       "6  22.275          25.77500        75.1            64.25000            \n",
       "7  21.875          25.52500        84.5            80.50000            \n",
       "8  21.700          25.37500        79.6            47.12772            \n",
       "9  22.050          26.02500        87.7            87.00000            \n",
       "10 17.600          23.50000        67.9            71.50000            \n",
       "11 19.175          26.00000        72.7            55.25000            \n",
       "12 16.175          22.87500        59.6            47.12772            \n",
       "13 19.225          23.82500        69.2            60.25000            \n",
       "14 15.925          20.05000        61.3            82.75000            \n",
       "15 23.200          24.85000        82.9            47.12772            \n",
       "16 23.500          29.77500        88.1            81.50000            \n",
       "17 22.800          26.57500        86.5            77.28250            \n",
       "18 19.550          24.85000        67.4            70.25000            \n",
       "19 19.050          24.49674        80.8            47.12772            \n",
       "20 15.250          21.60000        60.5            47.12772            \n",
       "21 21.425          25.45000        78.8            47.12772            \n",
       "22 18.525          25.05000        74.7            63.00000            \n",
       "23 16.600          20.37500        55.4            47.12772            \n",
       "   Q2.RH..8.3..MAY.AUG. Q3.RH..8.3..SEP.DEC. Q1.RH..17.3..JAN.APR.\n",
       "1  80.2500              86.000               48.2500              \n",
       "2  74.5000              69.500               66.5000              \n",
       "3  47.9525              49.106               36.9995              \n",
       "4  47.9525              49.106               48.5000              \n",
       "5  85.0000              80.750               58.5000              \n",
       "6  76.0000              82.750               46.7500              \n",
       "7  82.0000              83.000               64.5000              \n",
       "8  47.9525              49.106               36.9995              \n",
       "9  85.7500              83.250               83.7500              \n",
       "10 75.5000              83.500               51.5000              \n",
       "11 71.7500              76.250               34.2500              \n",
       "12 47.9525              49.106               36.9995              \n",
       "13 77.5000              73.500               41.5000              \n",
       "14 85.2500              90.250               61.5000              \n",
       "15 47.9525              49.106               36.9995              \n",
       "16 81.5000              80.250               78.5000              \n",
       "17 78.5000              72.750               76.2500              \n",
       "18 74.0000              81.250               51.0000              \n",
       "19 47.9525              49.106               36.9995              \n",
       "20 47.9525              49.106               36.9995              \n",
       "21 47.9525              49.106               36.9995              \n",
       "22 76.0000              86.750               39.7500              \n",
       "23 47.9525              49.106               36.9995              \n",
       "   Q2.RH..17.3..MAY.AUG. Q3.RH..17.3..SEP.DEC.\n",
       "1  70.50000              72.25000             \n",
       "2  74.75000              71.75000             \n",
       "3  44.41075              44.27975             \n",
       "4  44.41075              44.27975             \n",
       "5  80.50000              75.50000             \n",
       "6  65.50000              74.25000             \n",
       "7  77.75000              79.00000             \n",
       "8  44.41075              44.27975             \n",
       "9  85.00000              71.00000             \n",
       "10 65.75000              71.25000             \n",
       "11 61.00000              61.50000             \n",
       "12 44.41075              44.27975             \n",
       "13 73.75000              70.00000             \n",
       "14 75.00000              72.00000             \n",
       "15 44.41075              44.27975             \n",
       "16 82.00000              75.00000             \n",
       "17 79.75000              67.00000             \n",
       "18 64.25000              76.75000             \n",
       "19 44.41075              44.27975             \n",
       "20 44.41075              44.27975             \n",
       "21 44.41075              44.27975             \n",
       "22 66.00000              81.25000             \n",
       "23 44.41075              44.27975             "
      ]
     },
     "metadata": {},
     "output_type": "display_data"
    }
   ],
   "source": [
    "pd = read.csv('C:/Users/abc/Desktop/26-ORI.csv',stringsAsFactors=F,header=T)\n",
    "pd"
   ]
  },
  {
   "cell_type": "code",
   "execution_count": 5,
   "metadata": {},
   "outputs": [
    {
     "name": "stdout",
     "output_type": "stream",
     "text": [
      "'data.frame':\t23 obs. of  13 variables:\n",
      " $ DISTRICTS            : chr  \"ANGUL\" \"BALASORE\" \"BARIPADA\" \"BHAWANIPATNA\" ...\n",
      " $ Q1.MAX.JAN.APR.      : num  36 33.3 33.3 37.3 35.8 ...\n",
      " $ Q2.MAX.MAY.AUG.      : num  35 33.7 34 36.1 34.3 ...\n",
      " $ Q3.MAX.SEP.DEC.      : num  31.2 30.6 29.6 31.3 31.1 ...\n",
      " $ Q1.MIN.JAN.APR.      : num  18.9 20.9 19.9 20.6 22.3 ...\n",
      " $ Q2.MIN.MAY.AUG.      : num  23.4 25.5 24.4 24.5 26.3 ...\n",
      " $ Q3.MIN.SEP.DEC.      : num  65.4 80.4 76.9 61.3 82 75.1 84.5 79.6 87.7 67.9 ...\n",
      " $ Q1.RH..8.3..JAN.APR. : num  77.2 68 47.1 67 78.2 ...\n",
      " $ Q2.RH..8.3..MAY.AUG. : num  80.2 74.5 48 48 85 ...\n",
      " $ Q3.RH..8.3..SEP.DEC. : num  86 69.5 49.1 49.1 80.8 ...\n",
      " $ Q1.RH..17.3..JAN.APR.: num  48.2 66.5 37 48.5 58.5 ...\n",
      " $ Q2.RH..17.3..MAY.AUG.: num  70.5 74.8 44.4 44.4 80.5 ...\n",
      " $ Q3.RH..17.3..SEP.DEC.: num  72.2 71.8 44.3 44.3 75.5 ...\n"
     ]
    }
   ],
   "source": [
    "str(pd) # Whole description"
   ]
  },
  {
   "cell_type": "code",
   "execution_count": 6,
   "metadata": {},
   "outputs": [
    {
     "data": {
      "text/html": [
       "<style>\n",
       ".list-inline {list-style: none; margin:0; padding: 0}\n",
       ".list-inline>li {display: inline-block}\n",
       ".list-inline>li:not(:last-child)::after {content: \"\\00b7\"; padding: 0 .5ex}\n",
       "</style>\n",
       "<ol class=list-inline><li>23</li><li>13</li></ol>\n"
      ],
      "text/latex": [
       "\\begin{enumerate*}\n",
       "\\item 23\n",
       "\\item 13\n",
       "\\end{enumerate*}\n"
      ],
      "text/markdown": [
       "1. 23\n",
       "2. 13\n",
       "\n",
       "\n"
      ],
      "text/plain": [
       "[1] 23 13"
      ]
     },
     "metadata": {},
     "output_type": "display_data"
    }
   ],
   "source": [
    "dim(pd) # rows and columns"
   ]
  },
  {
   "cell_type": "code",
   "execution_count": 7,
   "metadata": {},
   "outputs": [
    {
     "data": {
      "text/html": [
       "23"
      ],
      "text/latex": [
       "23"
      ],
      "text/markdown": [
       "23"
      ],
      "text/plain": [
       "[1] 23"
      ]
     },
     "metadata": {},
     "output_type": "display_data"
    },
    {
     "data": {
      "text/html": [
       "13"
      ],
      "text/latex": [
       "13"
      ],
      "text/markdown": [
       "13"
      ],
      "text/plain": [
       "[1] 13"
      ]
     },
     "metadata": {},
     "output_type": "display_data"
    },
    {
     "data": {
      "text/html": [
       "<style>\n",
       ".list-inline {list-style: none; margin:0; padding: 0}\n",
       ".list-inline>li {display: inline-block}\n",
       ".list-inline>li:not(:last-child)::after {content: \"\\00b7\"; padding: 0 .5ex}\n",
       "</style>\n",
       "<ol class=list-inline><li>'DISTRICTS'</li><li>'Q1.MAX.JAN.APR.'</li><li>'Q2.MAX.MAY.AUG.'</li><li>'Q3.MAX.SEP.DEC.'</li><li>'Q1.MIN.JAN.APR.'</li><li>'Q2.MIN.MAY.AUG.'</li><li>'Q3.MIN.SEP.DEC.'</li><li>'Q1.RH..8.3..JAN.APR.'</li><li>'Q2.RH..8.3..MAY.AUG.'</li><li>'Q3.RH..8.3..SEP.DEC.'</li><li>'Q1.RH..17.3..JAN.APR.'</li><li>'Q2.RH..17.3..MAY.AUG.'</li><li>'Q3.RH..17.3..SEP.DEC.'</li></ol>\n"
      ],
      "text/latex": [
       "\\begin{enumerate*}\n",
       "\\item 'DISTRICTS'\n",
       "\\item 'Q1.MAX.JAN.APR.'\n",
       "\\item 'Q2.MAX.MAY.AUG.'\n",
       "\\item 'Q3.MAX.SEP.DEC.'\n",
       "\\item 'Q1.MIN.JAN.APR.'\n",
       "\\item 'Q2.MIN.MAY.AUG.'\n",
       "\\item 'Q3.MIN.SEP.DEC.'\n",
       "\\item 'Q1.RH..8.3..JAN.APR.'\n",
       "\\item 'Q2.RH..8.3..MAY.AUG.'\n",
       "\\item 'Q3.RH..8.3..SEP.DEC.'\n",
       "\\item 'Q1.RH..17.3..JAN.APR.'\n",
       "\\item 'Q2.RH..17.3..MAY.AUG.'\n",
       "\\item 'Q3.RH..17.3..SEP.DEC.'\n",
       "\\end{enumerate*}\n"
      ],
      "text/markdown": [
       "1. 'DISTRICTS'\n",
       "2. 'Q1.MAX.JAN.APR.'\n",
       "3. 'Q2.MAX.MAY.AUG.'\n",
       "4. 'Q3.MAX.SEP.DEC.'\n",
       "5. 'Q1.MIN.JAN.APR.'\n",
       "6. 'Q2.MIN.MAY.AUG.'\n",
       "7. 'Q3.MIN.SEP.DEC.'\n",
       "8. 'Q1.RH..8.3..JAN.APR.'\n",
       "9. 'Q2.RH..8.3..MAY.AUG.'\n",
       "10. 'Q3.RH..8.3..SEP.DEC.'\n",
       "11. 'Q1.RH..17.3..JAN.APR.'\n",
       "12. 'Q2.RH..17.3..MAY.AUG.'\n",
       "13. 'Q3.RH..17.3..SEP.DEC.'\n",
       "\n",
       "\n"
      ],
      "text/plain": [
       " [1] \"DISTRICTS\"             \"Q1.MAX.JAN.APR.\"       \"Q2.MAX.MAY.AUG.\"      \n",
       " [4] \"Q3.MAX.SEP.DEC.\"       \"Q1.MIN.JAN.APR.\"       \"Q2.MIN.MAY.AUG.\"      \n",
       " [7] \"Q3.MIN.SEP.DEC.\"       \"Q1.RH..8.3..JAN.APR.\"  \"Q2.RH..8.3..MAY.AUG.\" \n",
       "[10] \"Q3.RH..8.3..SEP.DEC.\"  \"Q1.RH..17.3..JAN.APR.\" \"Q2.RH..17.3..MAY.AUG.\"\n",
       "[13] \"Q3.RH..17.3..SEP.DEC.\""
      ]
     },
     "metadata": {},
     "output_type": "display_data"
    }
   ],
   "source": [
    "nrow(pd)\n",
    "ncol(pd)\n",
    "names(pd) # Column names"
   ]
  },
  {
   "cell_type": "code",
   "execution_count": 12,
   "metadata": {},
   "outputs": [
    {
     "data": {
      "text/html": [
       "<style>\n",
       ".list-inline {list-style: none; margin:0; padding: 0}\n",
       ".list-inline>li {display: inline-block}\n",
       ".list-inline>li:not(:last-child)::after {content: \"\\00b7\"; padding: 0 .5ex}\n",
       "</style>\n",
       "<ol class=list-inline><li>18</li><li>19</li><li>20</li><li>21</li><li>22</li><li>23</li></ol>\n"
      ],
      "text/latex": [
       "\\begin{enumerate*}\n",
       "\\item 18\n",
       "\\item 19\n",
       "\\item 20\n",
       "\\item 21\n",
       "\\item 22\n",
       "\\item 23\n",
       "\\end{enumerate*}\n"
      ],
      "text/markdown": [
       "1. 18\n",
       "2. 19\n",
       "3. 20\n",
       "4. 21\n",
       "5. 22\n",
       "6. 23\n",
       "\n",
       "\n"
      ],
      "text/plain": [
       "[1] 18 19 20 21 22 23"
      ]
     },
     "metadata": {},
     "output_type": "display_data"
    },
    {
     "data": {
      "text/html": [
       "18"
      ],
      "text/latex": [
       "18"
      ],
      "text/markdown": [
       "18"
      ],
      "text/plain": [
       "[1] 18"
      ]
     },
     "metadata": {},
     "output_type": "display_data"
    },
    {
     "data": {
      "text/html": [
       "20"
      ],
      "text/latex": [
       "20"
      ],
      "text/markdown": [
       "20"
      ],
      "text/plain": [
       "[1] 20"
      ]
     },
     "metadata": {},
     "output_type": "display_data"
    },
    {
     "data": {
      "text/html": [
       "<style>\n",
       ".list-inline {list-style: none; margin:0; padding: 0}\n",
       ".list-inline>li {display: inline-block}\n",
       ".list-inline>li:not(:last-child)::after {content: \"\\00b7\"; padding: 0 .5ex}\n",
       "</style>\n",
       "<ol class=list-inline><li>19</li><li>20</li><li>21</li></ol>\n"
      ],
      "text/latex": [
       "\\begin{enumerate*}\n",
       "\\item 19\n",
       "\\item 20\n",
       "\\item 21\n",
       "\\end{enumerate*}\n"
      ],
      "text/markdown": [
       "1. 19\n",
       "2. 20\n",
       "3. 21\n",
       "\n",
       "\n"
      ],
      "text/plain": [
       "[1] 19 20 21"
      ]
     },
     "metadata": {},
     "output_type": "display_data"
    },
    {
     "data": {
      "text/html": [
       "<style>\n",
       ".list-inline {list-style: none; margin:0; padding: 0}\n",
       ".list-inline>li {display: inline-block}\n",
       ".list-inline>li:not(:last-child)::after {content: \"\\00b7\"; padding: 0 .5ex}\n",
       "</style>\n",
       "<ol class=list-inline><li>18</li><li>22</li></ol>\n"
      ],
      "text/latex": [
       "\\begin{enumerate*}\n",
       "\\item 18\n",
       "\\item 22\n",
       "\\end{enumerate*}\n"
      ],
      "text/markdown": [
       "1. 18\n",
       "2. 22\n",
       "\n",
       "\n"
      ],
      "text/plain": [
       "[1] 18 22"
      ]
     },
     "metadata": {},
     "output_type": "display_data"
    }
   ],
   "source": [
    "# Refrencing  and subsetting vectors by location\n",
    "v1 <- c(18:23)\n",
    "v1\n",
    "v1[1]\n",
    "v1[3]\n",
    "v1[2:4]\n",
    "v1[c(1,5)]"
   ]
  },
  {
   "cell_type": "code",
   "execution_count": 14,
   "metadata": {},
   "outputs": [
    {
     "data": {
      "text/html": [
       "<style>\n",
       ".list-inline {list-style: none; margin:0; padding: 0}\n",
       ".list-inline>li {display: inline-block}\n",
       ".list-inline>li:not(:last-child)::after {content: \"\\00b7\"; padding: 0 .5ex}\n",
       "</style>\n",
       "<ol class=list-inline><li>18</li><li>22</li></ol>\n"
      ],
      "text/latex": [
       "\\begin{enumerate*}\n",
       "\\item 18\n",
       "\\item 22\n",
       "\\end{enumerate*}\n"
      ],
      "text/markdown": [
       "1. 18\n",
       "2. 22\n",
       "\n",
       "\n"
      ],
      "text/plain": [
       "[1] 18 22"
      ]
     },
     "metadata": {},
     "output_type": "display_data"
    }
   ],
   "source": [
    "v2 <- v1[c(1,5)]\n",
    "v2"
   ]
  },
  {
   "cell_type": "code",
   "execution_count": 15,
   "metadata": {},
   "outputs": [
    {
     "data": {
      "text/html": [
       "<table class=\"dataframe\">\n",
       "<caption>A data.frame: 5 × 3</caption>\n",
       "<thead>\n",
       "\t<tr><th></th><th scope=col>DISTRICTS</th><th scope=col>Q1.MAX.JAN.APR.</th><th scope=col>Q2.MAX.MAY.AUG.</th></tr>\n",
       "\t<tr><th></th><th scope=col>&lt;chr&gt;</th><th scope=col>&lt;dbl&gt;</th><th scope=col>&lt;dbl&gt;</th></tr>\n",
       "</thead>\n",
       "<tbody>\n",
       "\t<tr><th scope=row>1</th><td>ANGUL                </td><td>36.025</td><td>34.975</td></tr>\n",
       "\t<tr><th scope=row>2</th><td>BALASORE             </td><td>33.300</td><td>33.725</td></tr>\n",
       "\t<tr><th scope=row>3</th><td>BARIPADA             </td><td>33.325</td><td>33.975</td></tr>\n",
       "\t<tr><th scope=row>4</th><td>BHAWANIPATNA         </td><td>37.300</td><td>36.150</td></tr>\n",
       "\t<tr><th scope=row>5</th><td>BHUBANESWAR 30.3 16.8</td><td>35.775</td><td>34.275</td></tr>\n",
       "</tbody>\n",
       "</table>\n"
      ],
      "text/latex": [
       "A data.frame: 5 × 3\n",
       "\\begin{tabular}{r|lll}\n",
       "  & DISTRICTS & Q1.MAX.JAN.APR. & Q2.MAX.MAY.AUG.\\\\\n",
       "  & <chr> & <dbl> & <dbl>\\\\\n",
       "\\hline\n",
       "\t1 & ANGUL                 & 36.025 & 34.975\\\\\n",
       "\t2 & BALASORE              & 33.300 & 33.725\\\\\n",
       "\t3 & BARIPADA              & 33.325 & 33.975\\\\\n",
       "\t4 & BHAWANIPATNA          & 37.300 & 36.150\\\\\n",
       "\t5 & BHUBANESWAR 30.3 16.8 & 35.775 & 34.275\\\\\n",
       "\\end{tabular}\n"
      ],
      "text/markdown": [
       "\n",
       "A data.frame: 5 × 3\n",
       "\n",
       "| <!--/--> | DISTRICTS &lt;chr&gt; | Q1.MAX.JAN.APR. &lt;dbl&gt; | Q2.MAX.MAY.AUG. &lt;dbl&gt; |\n",
       "|---|---|---|---|\n",
       "| 1 | ANGUL                 | 36.025 | 34.975 |\n",
       "| 2 | BALASORE              | 33.300 | 33.725 |\n",
       "| 3 | BARIPADA              | 33.325 | 33.975 |\n",
       "| 4 | BHAWANIPATNA          | 37.300 | 36.150 |\n",
       "| 5 | BHUBANESWAR 30.3 16.8 | 35.775 | 34.275 |\n",
       "\n"
      ],
      "text/plain": [
       "  DISTRICTS             Q1.MAX.JAN.APR. Q2.MAX.MAY.AUG.\n",
       "1 ANGUL                 36.025          34.975         \n",
       "2 BALASORE              33.300          33.725         \n",
       "3 BARIPADA              33.325          33.975         \n",
       "4 BHAWANIPATNA          37.300          36.150         \n",
       "5 BHUBANESWAR 30.3 16.8 35.775          34.275         "
      ]
     },
     "metadata": {},
     "output_type": "display_data"
    }
   ],
   "source": [
    "# Refrencing and subsetting dataframes by location-----\n",
    "pd[1:5,1:3]"
   ]
  },
  {
   "cell_type": "code",
   "execution_count": 16,
   "metadata": {},
   "outputs": [
    {
     "data": {
      "text/html": [
       "<table class=\"dataframe\">\n",
       "<caption>A data.frame: 5 × 2</caption>\n",
       "<thead>\n",
       "\t<tr><th></th><th scope=col>DISTRICTS</th><th scope=col>Q2.MAX.MAY.AUG.</th></tr>\n",
       "\t<tr><th></th><th scope=col>&lt;chr&gt;</th><th scope=col>&lt;dbl&gt;</th></tr>\n",
       "</thead>\n",
       "<tbody>\n",
       "\t<tr><th scope=row>1</th><td>ANGUL                </td><td>34.975</td></tr>\n",
       "\t<tr><th scope=row>2</th><td>BALASORE             </td><td>33.725</td></tr>\n",
       "\t<tr><th scope=row>3</th><td>BARIPADA             </td><td>33.975</td></tr>\n",
       "\t<tr><th scope=row>4</th><td>BHAWANIPATNA         </td><td>36.150</td></tr>\n",
       "\t<tr><th scope=row>5</th><td>BHUBANESWAR 30.3 16.8</td><td>34.275</td></tr>\n",
       "</tbody>\n",
       "</table>\n"
      ],
      "text/latex": [
       "A data.frame: 5 × 2\n",
       "\\begin{tabular}{r|ll}\n",
       "  & DISTRICTS & Q2.MAX.MAY.AUG.\\\\\n",
       "  & <chr> & <dbl>\\\\\n",
       "\\hline\n",
       "\t1 & ANGUL                 & 34.975\\\\\n",
       "\t2 & BALASORE              & 33.725\\\\\n",
       "\t3 & BARIPADA              & 33.975\\\\\n",
       "\t4 & BHAWANIPATNA          & 36.150\\\\\n",
       "\t5 & BHUBANESWAR 30.3 16.8 & 34.275\\\\\n",
       "\\end{tabular}\n"
      ],
      "text/markdown": [
       "\n",
       "A data.frame: 5 × 2\n",
       "\n",
       "| <!--/--> | DISTRICTS &lt;chr&gt; | Q2.MAX.MAY.AUG. &lt;dbl&gt; |\n",
       "|---|---|---|\n",
       "| 1 | ANGUL                 | 34.975 |\n",
       "| 2 | BALASORE              | 33.725 |\n",
       "| 3 | BARIPADA              | 33.975 |\n",
       "| 4 | BHAWANIPATNA          | 36.150 |\n",
       "| 5 | BHUBANESWAR 30.3 16.8 | 34.275 |\n",
       "\n"
      ],
      "text/plain": [
       "  DISTRICTS             Q2.MAX.MAY.AUG.\n",
       "1 ANGUL                 34.975         \n",
       "2 BALASORE              33.725         \n",
       "3 BARIPADA              33.975         \n",
       "4 BHAWANIPATNA          36.150         \n",
       "5 BHUBANESWAR 30.3 16.8 34.275         "
      ]
     },
     "metadata": {},
     "output_type": "display_data"
    }
   ],
   "source": [
    "pd[1:5,c(1,3)]"
   ]
  },
  {
   "cell_type": "code",
   "execution_count": 19,
   "metadata": {},
   "outputs": [
    {
     "data": {
      "text/html": [
       "<style>\n",
       ".list-inline {list-style: none; margin:0; padding: 0}\n",
       ".list-inline>li {display: inline-block}\n",
       ".list-inline>li:not(:last-child)::after {content: \"\\00b7\"; padding: 0 .5ex}\n",
       "</style>\n",
       "<ol class=list-inline><li>'ANGUL'</li><li>'BALASORE'</li><li>'BARIPADA'</li><li>'BHAWANIPATNA'</li><li>'BHUBANESWAR 30.3 16.8'</li><li>'BOLANGIR'</li><li>'CHANDABALI'</li><li>'CUTTACK'</li><li>'GOPALPUR'</li><li>'HIRAKUD'</li><li>'JHARSUGUDA'</li><li>'KANDHAMAL'</li><li>'KEONJHAR'</li><li>'KORAPUT'</li><li>'MALKANGIRI'</li><li>'PARADEEP'</li><li>'PURI'</li><li>'SAMBALPUR'</li><li>'SUBARNAPUR'</li><li>'SUNDARGARH'</li><li>'TALCHAR'</li><li>'TITLAGARH'</li><li>'DARINGBARDI'</li></ol>\n"
      ],
      "text/latex": [
       "\\begin{enumerate*}\n",
       "\\item 'ANGUL'\n",
       "\\item 'BALASORE'\n",
       "\\item 'BARIPADA'\n",
       "\\item 'BHAWANIPATNA'\n",
       "\\item 'BHUBANESWAR 30.3 16.8'\n",
       "\\item 'BOLANGIR'\n",
       "\\item 'CHANDABALI'\n",
       "\\item 'CUTTACK'\n",
       "\\item 'GOPALPUR'\n",
       "\\item 'HIRAKUD'\n",
       "\\item 'JHARSUGUDA'\n",
       "\\item 'KANDHAMAL'\n",
       "\\item 'KEONJHAR'\n",
       "\\item 'KORAPUT'\n",
       "\\item 'MALKANGIRI'\n",
       "\\item 'PARADEEP'\n",
       "\\item 'PURI'\n",
       "\\item 'SAMBALPUR'\n",
       "\\item 'SUBARNAPUR'\n",
       "\\item 'SUNDARGARH'\n",
       "\\item 'TALCHAR'\n",
       "\\item 'TITLAGARH'\n",
       "\\item 'DARINGBARDI'\n",
       "\\end{enumerate*}\n"
      ],
      "text/markdown": [
       "1. 'ANGUL'\n",
       "2. 'BALASORE'\n",
       "3. 'BARIPADA'\n",
       "4. 'BHAWANIPATNA'\n",
       "5. 'BHUBANESWAR 30.3 16.8'\n",
       "6. 'BOLANGIR'\n",
       "7. 'CHANDABALI'\n",
       "8. 'CUTTACK'\n",
       "9. 'GOPALPUR'\n",
       "10. 'HIRAKUD'\n",
       "11. 'JHARSUGUDA'\n",
       "12. 'KANDHAMAL'\n",
       "13. 'KEONJHAR'\n",
       "14. 'KORAPUT'\n",
       "15. 'MALKANGIRI'\n",
       "16. 'PARADEEP'\n",
       "17. 'PURI'\n",
       "18. 'SAMBALPUR'\n",
       "19. 'SUBARNAPUR'\n",
       "20. 'SUNDARGARH'\n",
       "21. 'TALCHAR'\n",
       "22. 'TITLAGARH'\n",
       "23. 'DARINGBARDI'\n",
       "\n",
       "\n"
      ],
      "text/plain": [
       " [1] \"ANGUL\"                 \"BALASORE\"              \"BARIPADA\"             \n",
       " [4] \"BHAWANIPATNA\"          \"BHUBANESWAR 30.3 16.8\" \"BOLANGIR\"             \n",
       " [7] \"CHANDABALI\"            \"CUTTACK\"               \"GOPALPUR\"             \n",
       "[10] \"HIRAKUD\"               \"JHARSUGUDA\"            \"KANDHAMAL\"            \n",
       "[13] \"KEONJHAR\"              \"KORAPUT\"               \"MALKANGIRI\"           \n",
       "[16] \"PARADEEP\"              \"PURI\"                  \"SAMBALPUR\"            \n",
       "[19] \"SUBARNAPUR\"            \"SUNDARGARH\"            \"TALCHAR\"              \n",
       "[22] \"TITLAGARH\"             \"DARINGBARDI\"          "
      ]
     },
     "metadata": {},
     "output_type": "display_data"
    }
   ],
   "source": [
    "# Refrencing and subsetting DF by column names\n",
    "pd$DISTRICTS"
   ]
  },
  {
   "cell_type": "code",
   "execution_count": null,
   "metadata": {},
   "outputs": [],
   "source": [
    "# pd$Q3.RH..17.3..SEP.DEC. <- NULL \n",
    "# If you remove that particular column- Q3.RH..17.3..SEP.DEC."
   ]
  },
  {
   "cell_type": "code",
   "execution_count": 20,
   "metadata": {},
   "outputs": [
    {
     "data": {
      "text/plain": [
       "  DISTRICTS         Q1.MAX.JAN.APR. Q2.MAX.MAY.AUG. Q3.MAX.SEP.DEC.\n",
       " Length:23          Min.   :29.80   Min.   :29.38   Min.   :26.68  \n",
       " Class :character   1st Qu.:33.31   1st Qu.:33.16   1st Qu.:30.15  \n",
       " Mode  :character   Median :34.73   Median :34.30   Median :30.73  \n",
       "                    Mean   :34.27   Mean   :34.10   Mean   :30.44  \n",
       "                    3rd Qu.:35.67   3rd Qu.:35.41   3rd Qu.:31.29  \n",
       "                    Max.   :37.30   Max.   :36.73   Max.   :31.90  \n",
       " Q1.MIN.JAN.APR. Q2.MIN.MAY.AUG. Q3.MIN.SEP.DEC. Q1.RH..8.3..JAN.APR.\n",
       " Min.   :15.25   Min.   :20.05   Min.   :55.40   Min.   :47.13       \n",
       " 1st Qu.:18.73   1st Qu.:23.66   1st Qu.:66.40   1st Qu.:47.13       \n",
       " Median :19.95   Median :24.85   Median :75.10   Median :64.25       \n",
       " Mean   :19.94   Mean   :24.62   Mean   :73.86   Mean   :63.52       \n",
       " 3rd Qu.:21.96   3rd Qu.:25.65   3rd Qu.:81.40   3rd Qu.:77.27       \n",
       " Max.   :23.50   Max.   :29.77   Max.   :88.10   Max.   :87.00       \n",
       " Q2.RH..8.3..MAY.AUG. Q3.RH..8.3..SEP.DEC. Q1.RH..17.3..JAN.APR.\n",
       " Min.   :47.95        Min.   :49.11        Min.   :34.25        \n",
       " 1st Qu.:47.95        1st Qu.:49.11        1st Qu.:37.00        \n",
       " Median :74.50        Median :73.50        Median :46.75        \n",
       " Mean   :66.74        Mean   :68.33        Mean   :49.87        \n",
       " 3rd Qu.:79.38        3rd Qu.:82.88        3rd Qu.:60.00        \n",
       " Max.   :85.75        Max.   :90.25        Max.   :83.75        \n",
       " Q2.RH..17.3..MAY.AUG. Q3.RH..17.3..SEP.DEC.\n",
       " Min.   :44.41         Min.   :44.28        \n",
       " 1st Qu.:44.41         1st Qu.:44.28        \n",
       " Median :65.50         Median :70.00        \n",
       " Mean   :61.79         Mean   :61.61        \n",
       " 3rd Qu.:74.88         3rd Qu.:73.25        \n",
       " Max.   :85.00         Max.   :81.25        "
      ]
     },
     "metadata": {},
     "output_type": "display_data"
    }
   ],
   "source": [
    "# Explore the shape of the data\n",
    "summary(pd)"
   ]
  },
  {
   "cell_type": "code",
   "execution_count": 21,
   "metadata": {},
   "outputs": [
    {
     "data": {
      "text/plain": [
       "   Length     Class      Mode \n",
       "       23 character character "
      ]
     },
     "metadata": {},
     "output_type": "display_data"
    }
   ],
   "source": [
    "summary(pd$DISTRICTS)"
   ]
  },
  {
   "cell_type": "code",
   "execution_count": 22,
   "metadata": {},
   "outputs": [
    {
     "data": {
      "text/plain": [
       "  DISTRICTS         Q1.MAX.JAN.APR.\n",
       " Length:23          Min.   :29.80  \n",
       " Class :character   1st Qu.:33.31  \n",
       " Mode  :character   Median :34.73  \n",
       "                    Mean   :34.27  \n",
       "                    3rd Qu.:35.67  \n",
       "                    Max.   :37.30  "
      ]
     },
     "metadata": {},
     "output_type": "display_data"
    }
   ],
   "source": [
    "summary(pd[c('DISTRICTS','Q1.MAX.JAN.APR.')])"
   ]
  },
  {
   "cell_type": "code",
   "execution_count": 28,
   "metadata": {},
   "outputs": [
    {
     "data": {
      "image/png": "[encoded data removed]",
      "text/plain": [
       "Plot with title \"Histogram of pd$Q1.RH..17.3..JAN.APR.\""
      ]
     },
     "metadata": {
      "image/png": {
       "height": 420,
       "width": 420
      }
     },
     "output_type": "display_data"
    },
    {
     "data": {
      "image/png": "[encoded data removed]",
      "text/plain": [
       "plot without title"
      ]
     },
     "metadata": {
      "image/png": {
       "height": 420,
       "width": 420
      }
     },
     "output_type": "display_data"
    },
    {
     "data": {
      "image/png": "[encoded data removed]",
      "text/plain": [
       "plot without title"
      ]
     },
     "metadata": {
      "image/png": {
       "height": 420,
       "width": 420
      }
     },
     "output_type": "display_data"
    }
   ],
   "source": [
    "# Visualisation\n",
    "hist(pd$Q1.RH..17.3..JAN.APR.)\n",
    "boxplot(pd$Q1.MAX.JAN.APR.)\n",
    "plot(pd$Q1.MAX.JAN.APR.)"
   ]
  },
  {
   "cell_type": "code",
   "execution_count": 29,
   "metadata": {},
   "outputs": [
    {
     "data": {
      "image/png": "[encoded data removed]",
      "text/plain": [
       "plot without title"
      ]
     },
     "metadata": {
      "image/png": {
       "height": 420,
       "width": 420
      }
     },
     "output_type": "display_data"
    }
   ],
   "source": [
    "plot(pd$Q1.MAX.JAN.APR.,pd$Q1.RH..17.3..JAN.APR.)"
   ]
  },
  {
   "cell_type": "code",
   "execution_count": 31,
   "metadata": {},
   "outputs": [
    {
     "data": {
      "image/png": "[encoded data removed]",
      "text/plain": [
       "plot without title"
      ]
     },
     "metadata": {
      "image/png": {
       "height": 420,
       "width": 420
      }
     },
     "output_type": "display_data"
    }
   ],
   "source": [
    "plot(pd[,c('DISTRICTS','Q1.RH..17.3..JAN.APR.','Q1.MAX.JAN.APR.')])"
   ]
  },
  {
   "cell_type": "code",
   "execution_count": 32,
   "metadata": {},
   "outputs": [],
   "source": [
    "# Introduction to Non-Numeric data-types"
   ]
  },
  {
   "cell_type": "code",
   "execution_count": 33,
   "metadata": {},
   "outputs": [
    {
     "name": "stdout",
     "output_type": "stream",
     "text": [
      "'data.frame':\t23 obs. of  13 variables:\n",
      " $ DISTRICTS            : chr  \"ANGUL\" \"BALASORE\" \"BARIPADA\" \"BHAWANIPATNA\" ...\n",
      " $ Q1.MAX.JAN.APR.      : num  36 33.3 33.3 37.3 35.8 ...\n",
      " $ Q2.MAX.MAY.AUG.      : num  35 33.7 34 36.1 34.3 ...\n",
      " $ Q3.MAX.SEP.DEC.      : num  31.2 30.6 29.6 31.3 31.1 ...\n",
      " $ Q1.MIN.JAN.APR.      : num  18.9 20.9 19.9 20.6 22.3 ...\n",
      " $ Q2.MIN.MAY.AUG.      : num  23.4 25.5 24.4 24.5 26.3 ...\n",
      " $ Q3.MIN.SEP.DEC.      : num  65.4 80.4 76.9 61.3 82 75.1 84.5 79.6 87.7 67.9 ...\n",
      " $ Q1.RH..8.3..JAN.APR. : num  77.2 68 47.1 67 78.2 ...\n",
      " $ Q2.RH..8.3..MAY.AUG. : num  80.2 74.5 48 48 85 ...\n",
      " $ Q3.RH..8.3..SEP.DEC. : num  86 69.5 49.1 49.1 80.8 ...\n",
      " $ Q1.RH..17.3..JAN.APR.: num  48.2 66.5 37 48.5 58.5 ...\n",
      " $ Q2.RH..17.3..MAY.AUG.: num  70.5 74.8 44.4 44.4 80.5 ...\n",
      " $ Q3.RH..17.3..SEP.DEC.: num  72.2 71.8 44.3 44.3 75.5 ...\n"
     ]
    }
   ],
   "source": [
    "str(pd)"
   ]
  },
  {
   "cell_type": "code",
   "execution_count": 34,
   "metadata": {},
   "outputs": [
    {
     "data": {
      "text/html": [
       "50.5"
      ],
      "text/latex": [
       "50.5"
      ],
      "text/markdown": [
       "50.5"
      ],
      "text/plain": [
       "[1] 50.5"
      ]
     },
     "metadata": {},
     "output_type": "display_data"
    }
   ],
   "source": [
    "mean(c(1:99, 1000), trim = .01)"
   ]
  },
  {
   "cell_type": "code",
   "execution_count": 39,
   "metadata": {},
   "outputs": [
    {
     "ename": "ERROR",
     "evalue": "Error in describe(pd): could not find function \"describe\"\n",
     "output_type": "error",
     "traceback": [
      "Error in describe(pd): could not find function \"describe\"\nTraceback:\n"
     ]
    }
   ],
   "source": []
  },
  {
   "cell_type": "code",
   "execution_count": null,
   "metadata": {},
   "outputs": [],
   "source": []
  }
 ],
 "metadata": {
  "kernelspec": {
   "display_name": "R",
   "language": "R",
   "name": "ir"
  },
  "language_info": {
   "codemirror_mode": "r",
   "file_extension": ".r",
   "mimetype": "text/x-r-source",
   "name": "R",
   "pygments_lexer": "r",
   "version": "4.0.3"
  }
 },
 "nbformat": 4,
 "nbformat_minor": 2
}
